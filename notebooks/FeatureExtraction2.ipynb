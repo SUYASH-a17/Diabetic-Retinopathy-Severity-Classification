{
 "cells": [
  {
   "cell_type": "code",
   "execution_count": 13,
   "id": "70727c04-98f8-47c2-9725-fcf6b654baed",
   "metadata": {},
   "outputs": [
    {
     "name": "stdout",
     "output_type": "stream",
     "text": [
      "Requirement already satisfied: torch in c:\\users\\adima\\appdata\\roaming\\python\\python313\\site-packages (2.6.0+cu126)\n",
      "Requirement already satisfied: torchvision in c:\\users\\adima\\appdata\\roaming\\python\\python313\\site-packages (0.21.0+cu126)\n",
      "Requirement already satisfied: pandas in e:\\aditya\\anaconda3\\envs\\env1\\lib\\site-packages (2.2.3)\n",
      "Requirement already satisfied: filelock in c:\\users\\adima\\appdata\\roaming\\python\\python313\\site-packages (from torch) (3.13.1)\n",
      "Requirement already satisfied: typing-extensions>=4.10.0 in c:\\users\\adima\\appdata\\roaming\\python\\python313\\site-packages (from torch) (4.12.2)\n",
      "Requirement already satisfied: networkx in c:\\users\\adima\\appdata\\roaming\\python\\python313\\site-packages (from torch) (3.3)\n",
      "Requirement already satisfied: jinja2 in c:\\users\\adima\\appdata\\roaming\\python\\python313\\site-packages (from torch) (3.1.4)\n",
      "Requirement already satisfied: fsspec in c:\\users\\adima\\appdata\\roaming\\python\\python313\\site-packages (from torch) (2024.6.1)\n",
      "Requirement already satisfied: setuptools in c:\\users\\adima\\appdata\\roaming\\python\\python313\\site-packages (from torch) (70.2.0)\n",
      "Requirement already satisfied: sympy==1.13.1 in c:\\users\\adima\\appdata\\roaming\\python\\python313\\site-packages (from torch) (1.13.1)\n",
      "Requirement already satisfied: mpmath<1.4,>=1.1.0 in c:\\users\\adima\\appdata\\roaming\\python\\python313\\site-packages (from sympy==1.13.1->torch) (1.3.0)\n",
      "Requirement already satisfied: numpy in c:\\users\\adima\\appdata\\roaming\\python\\python313\\site-packages (from torchvision) (2.1.2)\n",
      "Requirement already satisfied: pillow!=8.3.*,>=5.3.0 in c:\\users\\adima\\appdata\\roaming\\python\\python313\\site-packages (from torchvision) (11.0.0)\n",
      "Requirement already satisfied: python-dateutil>=2.8.2 in c:\\users\\adima\\appdata\\roaming\\python\\python313\\site-packages (from pandas) (2.9.0.post0)\n",
      "Requirement already satisfied: pytz>=2020.1 in e:\\aditya\\anaconda3\\envs\\env1\\lib\\site-packages (from pandas) (2025.2)\n",
      "Requirement already satisfied: tzdata>=2022.7 in e:\\aditya\\anaconda3\\envs\\env1\\lib\\site-packages (from pandas) (2025.2)\n",
      "Requirement already satisfied: six>=1.5 in c:\\users\\adima\\appdata\\roaming\\python\\python313\\site-packages (from python-dateutil>=2.8.2->pandas) (1.17.0)\n",
      "Requirement already satisfied: MarkupSafe>=2.0 in c:\\users\\adima\\appdata\\roaming\\python\\python313\\site-packages (from jinja2->torch) (2.1.5)\n",
      "Note: you may need to restart the kernel to use updated packages.\n"
     ]
    }
   ],
   "source": [
    "pip install torch torchvision pandas"
   ]
  },
  {
   "cell_type": "code",
   "execution_count": 14,
   "id": "f1fd8976-7833-4e8c-9d89-be480487dad8",
   "metadata": {},
   "outputs": [
    {
     "name": "stdout",
     "output_type": "stream",
     "text": [
      "Requirement already satisfied: tqdm in e:\\aditya\\anaconda3\\envs\\env1\\lib\\site-packages (4.67.1)\n",
      "Requirement already satisfied: colorama in c:\\users\\adima\\appdata\\roaming\\python\\python313\\site-packages (from tqdm) (0.4.6)\n",
      "Note: you may need to restart the kernel to use updated packages.\n"
     ]
    }
   ],
   "source": [
    "pip install tqdm"
   ]
  },
  {
   "cell_type": "code",
   "execution_count": 1,
   "id": "385ca3bf-1e0b-4907-93ec-d6e2801f2419",
   "metadata": {},
   "outputs": [],
   "source": [
    "import torch\n",
    "from torchvision import models, transforms\n",
    "from PIL import Image\n",
    "import os\n",
    "import numpy as np\n",
    "import pandas as pd\n",
    "from tqdm import tqdm"
   ]
  },
  {
   "cell_type": "code",
   "execution_count": 2,
   "id": "3519b7c4-8736-4eef-a711-e75176391438",
   "metadata": {},
   "outputs": [
    {
     "name": "stdout",
     "output_type": "stream",
     "text": [
      "Using device: cpu\n"
     ]
    }
   ],
   "source": [
    "# Set your dataset directory and output file\n",
    "image_dir = r\"F:\\Big_data_dataset\\EAMDR_data\\dr_unified_v2\\train\"\n",
    "output_csv = \"train_features_dr_unified.csv\"\n",
    "\n",
    "# Use GPU if available\n",
    "device = torch.device(\"cuda\" if torch.cuda.is_available() else \"cpu\")\n",
    "print(\"Using device:\", device)"
   ]
  },
  {
   "cell_type": "code",
   "execution_count": null,
   "id": "7c6fb3ef-ffb7-418f-bef0-ed87700cc81b",
   "metadata": {},
   "outputs": [
    {
     "name": "stderr",
     "output_type": "stream",
     "text": [
      "E:\\Aditya\\Anaconda3\\Lib\\site-packages\\torchvision\\models\\_utils.py:208: UserWarning: The parameter 'pretrained' is deprecated since 0.13 and may be removed in the future, please use 'weights' instead.\n",
      "  warnings.warn(\n",
      "E:\\Aditya\\Anaconda3\\Lib\\site-packages\\torchvision\\models\\_utils.py:223: UserWarning: Arguments other than a weight enum or `None` for 'weights' are deprecated since 0.13 and may be removed in the future. The current behavior is equivalent to passing `weights=ResNet50_Weights.IMAGENET1K_V1`. You can also use `weights=ResNet50_Weights.DEFAULT` to get the most up-to-date weights.\n",
      "  warnings.warn(msg)\n"
     ]
    },
    {
     "name": "stdout",
     "output_type": "stream",
     "text": [
      "ResNet50 loaded\n"
     ]
    }
   ],
   "source": [
    "# Load pretrained ResNet50 and remove the classification head\n",
    "resnet = models.resnet50(pretrained=True)\n",
    "model = torch.nn.Sequential(*list(resnet.children())[:-1])\n",
    "model.to(device)\n",
    "model.eval()\n",
    "print(\"ResNet50 loaded\")"
   ]
  },
  {
   "cell_type": "code",
   "execution_count": 4,
   "id": "083c6ed9-5f63-4f20-a1b5-a30e79559038",
   "metadata": {},
   "outputs": [
    {
     "name": "stdout",
     "output_type": "stream",
     "text": [
      "Transform ready\n"
     ]
    }
   ],
   "source": [
    "# Image transformation\n",
    "transform = transforms.Compose([\n",
    "    transforms.Resize((224, 224)),  # Required size for ResNet\n",
    "    transforms.ToTensor(),\n",
    "    transforms.Normalize(mean=[0.485, 0.456, 0.406],\n",
    "                         std=[0.229, 0.224, 0.225])\n",
    "])\n",
    "print(\"Transform ready\")\n"
   ]
  },
  {
   "cell_type": "code",
   "execution_count": 19,
   "id": "9a396975-6a87-4a8c-8d24-1b363673550d",
   "metadata": {},
   "outputs": [
    {
     "name": "stdout",
     "output_type": "stream",
     "text": [
      "🔍 Processing class 0\n"
     ]
    },
    {
     "name": "stderr",
     "output_type": "stream",
     "text": [
      "Class 0: 100%|██████████| 55162/55162 [36:48<00:00, 24.97it/s]\n"
     ]
    },
    {
     "name": "stdout",
     "output_type": "stream",
     "text": [
      "🔍 Processing class 1\n"
     ]
    },
    {
     "name": "stderr",
     "output_type": "stream",
     "text": [
      "Class 1: 100%|██████████| 55590/55590 [40:33<00:00, 22.85it/s]\n"
     ]
    },
    {
     "name": "stdout",
     "output_type": "stream",
     "text": [
      "🔍 Processing class 2\n"
     ]
    },
    {
     "name": "stderr",
     "output_type": "stream",
     "text": [
      "Class 2: 100%|██████████| 48475/48475 [36:47<00:00, 21.96it/s]\n"
     ]
    },
    {
     "name": "stdout",
     "output_type": "stream",
     "text": [
      "🔍 Processing class 3\n"
     ]
    },
    {
     "name": "stderr",
     "output_type": "stream",
     "text": [
      "Class 3: 100%|██████████| 42616/42616 [32:29<00:00, 21.86it/s]\n"
     ]
    },
    {
     "name": "stdout",
     "output_type": "stream",
     "text": [
      "🔍 Processing class 4\n"
     ]
    },
    {
     "name": "stderr",
     "output_type": "stream",
     "text": [
      "Class 4: 100%|██████████| 49715/49715 [40:17<00:00, 20.56it/s]\n"
     ]
    }
   ],
   "source": [
    "# Actual feature extraction logic\n",
    "all_features, all_labels, all_paths = [], [], []\n",
    "\n",
    "for label in sorted(os.listdir(image_dir)):\n",
    "    class_path = os.path.join(image_dir, label)\n",
    "    if not os.path.isdir(class_path):\n",
    "        continue\n",
    "\n",
    "    print(f\"Processing class {label}\")\n",
    "    for file_name in tqdm(os.listdir(class_path), desc=f\"Class {label}\"):\n",
    "        file_path = os.path.join(class_path, file_name)\n",
    "        try:\n",
    "            img = Image.open(file_path).convert('RGB')\n",
    "            img_tensor = transform(img).unsqueeze(0).to(device)\n",
    "\n",
    "            with torch.no_grad():\n",
    "                features = model(img_tensor).squeeze().cpu().numpy()\n",
    "\n",
    "            all_features.append(features)\n",
    "            all_labels.append(int(label))\n",
    "            all_paths.append(file_path)\n",
    "\n",
    "        except Exception as e:\n",
    "            print(f\"Failed on {file_path} → {e}\")"
   ]
  },
  {
   "cell_type": "code",
   "execution_count": 20,
   "id": "c941f788-501c-4287-a7b9-7ca2c58b109e",
   "metadata": {},
   "outputs": [
    {
     "name": "stdout",
     "output_type": "stream",
     "text": [
      "✅ Feature CSV saved to: train_features_dr_unified.csv\n"
     ]
    }
   ],
   "source": [
    "# Save features\n",
    "df = pd.DataFrame(all_features)\n",
    "df['label'] = all_labels\n",
    "df['path'] = all_paths\n",
    "\n",
    "df.to_csv(output_csv, index=False)\n",
    "print(f\"✅ Feature CSV saved to: {output_csv}\")"
   ]
  },
  {
   "cell_type": "code",
   "execution_count": null,
   "id": "dec926ba-3845-470c-8929-23087ff19677",
   "metadata": {},
   "outputs": [],
   "source": []
  }
 ],
 "metadata": {
  "kernelspec": {
   "display_name": "Python 3 (ipykernel)",
   "language": "python",
   "name": "python3"
  },
  "language_info": {
   "codemirror_mode": {
    "name": "ipython",
    "version": 3
   },
   "file_extension": ".py",
   "mimetype": "text/x-python",
   "name": "python",
   "nbconvert_exporter": "python",
   "pygments_lexer": "ipython3",
   "version": "3.12.7"
  }
 },
 "nbformat": 4,
 "nbformat_minor": 5
}
