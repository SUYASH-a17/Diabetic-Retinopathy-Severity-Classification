{
 "cells": [
  {
   "cell_type": "markdown",
   "metadata": {},
   "source": [
    "- We add a unique, monotonically increasing row_index to each DataFrame so we can reliably align and join feature rows with their corresponding metadata by row order."
   ]
  },
  {
   "cell_type": "code",
   "execution_count": 0,
   "metadata": {
    "application/vnd.databricks.v1+cell": {
     "cellMetadata": {
      "byteLimit": 2048000,
      "rowLimit": 10000
     },
     "inputWidgets": {},
     "nuid": "39d3ff36-e68f-49be-8d71-eee3fc63f97b",
     "showTitle": false,
     "tableResultSettingsMap": {},
     "title": ""
    }
   },
   "outputs": [
    {
     "name": "stdout",
     "output_type": "stream",
     "text": [
      "Output written to dbfs:/FileStore/tables/clean_resnet_features_with_path/\n"
     ]
    }
   ],
   "source": [
    "from pyspark.sql.functions import monotonically_increasing_id\n",
    "features_df = spark.read.option(\"header\", True).csv(\"dbfs:/FileStore/tables/clean_train_features_dr_unified_og.csv\")\n",
    "metadata_df = spark.read.option(\"header\", True).csv(\"dbfs:/FileStore/tables/retinopathy_metadata_combined.csv\")\n",
    "features_df = features_df.withColumn(\"row_index\", monotonically_increasing_id())\n",
    "metadata_df = metadata_df.withColumn(\"row_index\", monotonically_increasing_id())\n",
    "combined_df = metadata_df.select(\"path\", \"row_index\").join(features_df, on=\"row_index\", how=\"inner\")\n",
    "final_df = combined_df.drop(\"row_index\")\n",
    "final_df.coalesce(1).write.option(\"header\", True).mode(\"overwrite\").csv(\"dbfs:/FileStore/tables/clean_resnet_features_with_path\")\n",
    "\n",
    "print(\"Output written to dbfs:/FileStore/tables/clean_resnet_features_with_path/\")"
   ]
  },
  {
   "cell_type": "code",
   "execution_count": 0,
   "metadata": {
    "application/vnd.databricks.v1+cell": {
     "cellMetadata": {
      "byteLimit": 2048000,
      "rowLimit": 10000
     },
     "inputWidgets": {},
     "nuid": "87f4e5f1-a096-4246-b8ed-5f02a77b3676",
     "showTitle": false,
     "tableResultSettingsMap": {},
     "title": ""
    }
   },
   "outputs": [
    {
     "data": {
      "text/html": [
       "<style scoped>\n",
       "  .table-result-container {\n",
       "    max-height: 300px;\n",
       "    overflow: auto;\n",
       "  }\n",
       "  table, th, td {\n",
       "    border: 1px solid black;\n",
       "    border-collapse: collapse;\n",
       "  }\n",
       "  th, td {\n",
       "    padding: 5px;\n",
       "  }\n",
       "  th {\n",
       "    text-align: left;\n",
       "  }\n",
       "</style><div class='table-result-container'><table class='table-result'><thead style='background-color: white'><tr><th>path</th><th>name</th><th>size</th><th>modificationTime</th></tr></thead><tbody><tr><td>dbfs:/FileStore/tables/clean_resnet_features_with_path/_SUCCESS</td><td>_SUCCESS</td><td>0</td><td>1746559822000</td></tr><tr><td>dbfs:/FileStore/tables/clean_resnet_features_with_path/_committed_8055122991505936825</td><td>_committed_8055122991505936825</td><td>113</td><td>1746559822000</td></tr><tr><td>dbfs:/FileStore/tables/clean_resnet_features_with_path/_started_8055122991505936825</td><td>_started_8055122991505936825</td><td>0</td><td>1746559703000</td></tr><tr><td>dbfs:/FileStore/tables/clean_resnet_features_with_path/part-00000-tid-8055122991505936825-70f19b24-5afc-4665-a901-1181b3462e2d-145-1-c000.csv</td><td>part-00000-tid-8055122991505936825-70f19b24-5afc-4665-a901-1181b3462e2d-145-1-c000.csv</td><td>808802315</td><td>1746559815000</td></tr></tbody></table></div>"
      ]
     },
     "metadata": {
      "application/vnd.databricks.v1+output": {
       "addedWidgets": {},
       "aggData": [],
       "aggError": "",
       "aggOverflow": false,
       "aggSchema": [],
       "aggSeriesLimitReached": false,
       "aggType": "",
       "arguments": {},
       "columnCustomDisplayInfos": {},
       "data": [
        [
         "dbfs:/FileStore/tables/clean_resnet_features_with_path/_SUCCESS",
         "_SUCCESS",
         0,
         1746559822000
        ],
        [
         "dbfs:/FileStore/tables/clean_resnet_features_with_path/_committed_8055122991505936825",
         "_committed_8055122991505936825",
         113,
         1746559822000
        ],
        [
         "dbfs:/FileStore/tables/clean_resnet_features_with_path/_started_8055122991505936825",
         "_started_8055122991505936825",
         0,
         1746559703000
        ],
        [
         "dbfs:/FileStore/tables/clean_resnet_features_with_path/part-00000-tid-8055122991505936825-70f19b24-5afc-4665-a901-1181b3462e2d-145-1-c000.csv",
         "part-00000-tid-8055122991505936825-70f19b24-5afc-4665-a901-1181b3462e2d-145-1-c000.csv",
         808802315,
         1746559815000
        ]
       ],
       "datasetInfos": [],
       "dbfsResultPath": null,
       "isJsonSchema": true,
       "metadata": {},
       "overflow": false,
       "plotOptions": {
        "customPlotOptions": {},
        "displayType": "table",
        "pivotAggregation": null,
        "pivotColumns": null,
        "xColumns": null,
        "yColumns": null
       },
       "removedWidgets": [],
       "schema": [
        {
         "metadata": "{}",
         "name": "path",
         "type": "\"string\""
        },
        {
         "metadata": "{}",
         "name": "name",
         "type": "\"string\""
        },
        {
         "metadata": "{}",
         "name": "size",
         "type": "\"long\""
        },
        {
         "metadata": "{}",
         "name": "modificationTime",
         "type": "\"long\""
        }
       ],
       "type": "table"
      }
     },
     "output_type": "display_data"
    }
   ],
   "source": [
    "display(dbutils.fs.ls(\"dbfs:/FileStore/tables/clean_resnet_features_with_path\"))"
   ]
  }
 ],
 "metadata": {
  "application/vnd.databricks.v1+notebook": {
   "computePreferences": null,
   "dashboards": [],
   "environmentMetadata": {
    "base_environment": "",
    "environment_version": "1"
   },
   "inputWidgetPreferences": null,
   "language": "python",
   "notebookMetadata": {
    "pythonIndentUnit": 4
   },
   "notebookName": "Untitled Notebook 2025-05-06 14:32:52",
   "widgets": {}
  },
  "language_info": {
   "name": "python"
  }
 },
 "nbformat": 4,
 "nbformat_minor": 0
}
